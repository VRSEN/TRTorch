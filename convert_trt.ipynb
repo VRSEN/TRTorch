{
 "cells": [
  {
   "cell_type": "code",
   "execution_count": 10,
   "id": "21014d45-6e6f-4d0b-afd9-6b08bb508cf9",
   "metadata": {},
   "outputs": [],
   "source": [
    "import torch\n",
    "from torch import nn\n",
    "import torch.fx as fx\n",
    "import torch.nn.functional as F\n",
    "import torchvision\n",
    "import trtorch\n",
    "#from det2_test_loader import get_test_loader \n",
    "import os"
   ]
  },
  {
   "cell_type": "code",
   "execution_count": 15,
   "id": "b2969656-291f-4ba5-96d5-262082a18e3b",
   "metadata": {},
   "outputs": [],
   "source": [
    "model = torch.jit.load(\"/falldetector/detectron2/output_tracing_float2/model.ts\")"
   ]
  },
  {
   "cell_type": "code",
   "execution_count": 14,
   "id": "cc2e12e6-501a-442d-b0b0-d273e3a3740e",
   "metadata": {},
   "outputs": [],
   "source": [
    "model = torch.jit.load(\"/falldetector/falldet3d-cpp/models/model_scripting.ts\")"
   ]
  },
  {
   "cell_type": "code",
   "execution_count": 16,
   "id": "9ab5e862-4bd0-4205-b3a1-4d9001886164",
   "metadata": {},
   "outputs": [],
   "source": [
    "model = torch.jit.load(\"/falldetector/falldet3d-cpp/models/model_scripting_list.ts\")"
   ]
  },
  {
   "cell_type": "code",
   "execution_count": 16,
   "id": "180ebda0-1626-40b4-acd4-c0037fa7a447",
   "metadata": {
    "tags": []
   },
   "outputs": [
    {
     "ename": "RuntimeError",
     "evalue": "[enforce fail at core/conversion/evaluators/aten.cpp:597] Invalid input argument size for aten::arange, input argument size: 7\n",
     "output_type": "error",
     "traceback": [
      "\u001b[0;31m---------------------------------------------------------------------------\u001b[0m",
      "\u001b[0;31mRuntimeError\u001b[0m                              Traceback (most recent call last)",
      "\u001b[0;32m<ipython-input-16-2002f03e2119>\u001b[0m in \u001b[0;36m<module>\u001b[0;34m\u001b[0m\n\u001b[1;32m     18\u001b[0m }\n\u001b[1;32m     19\u001b[0m \u001b[0;34m\u001b[0m\u001b[0m\n\u001b[0;32m---> 20\u001b[0;31m \u001b[0mtrt_ts_module\u001b[0m \u001b[0;34m=\u001b[0m \u001b[0mtrtorch\u001b[0m\u001b[0;34m.\u001b[0m\u001b[0mcompile\u001b[0m\u001b[0;34m(\u001b[0m\u001b[0mmodel\u001b[0m\u001b[0;34m.\u001b[0m\u001b[0mfloat\u001b[0m\u001b[0;34m(\u001b[0m\u001b[0;34m)\u001b[0m\u001b[0;34m,\u001b[0m \u001b[0mcompile_settings\u001b[0m\u001b[0;34m)\u001b[0m\u001b[0;34m\u001b[0m\u001b[0;34m\u001b[0m\u001b[0m\n\u001b[0m\u001b[1;32m     21\u001b[0m \u001b[0mprint\u001b[0m\u001b[0;34m(\u001b[0m\u001b[0;34m'COMPILED!!'\u001b[0m\u001b[0;34m)\u001b[0m\u001b[0;34m\u001b[0m\u001b[0;34m\u001b[0m\u001b[0m\n\u001b[1;32m     22\u001b[0m \u001b[0minput_data\u001b[0m \u001b[0;34m=\u001b[0m \u001b[0mtorch\u001b[0m\u001b[0;34m.\u001b[0m\u001b[0mrandn\u001b[0m\u001b[0;34m(\u001b[0m\u001b[0;34m(\u001b[0m\u001b[0;36m3\u001b[0m\u001b[0;34m,\u001b[0m \u001b[0;36m1080\u001b[0m\u001b[0;34m,\u001b[0m \u001b[0;36m1920\u001b[0m\u001b[0;34m)\u001b[0m\u001b[0;34m)\u001b[0m\u001b[0;34m\u001b[0m\u001b[0;34m\u001b[0m\u001b[0m\n",
      "\u001b[0;32m/falldetector/TRTorch/py/trtorch/_compiler.py\u001b[0m in \u001b[0;36mcompile\u001b[0;34m(module, compile_spec)\u001b[0m\n\u001b[1;32m     71\u001b[0m             \"torch.jit.ScriptFunction currently is not directly supported, wrap the function in a module to compile\")\n\u001b[1;32m     72\u001b[0m \u001b[0;34m\u001b[0m\u001b[0m\n\u001b[0;32m---> 73\u001b[0;31m     \u001b[0mcompiled_cpp_mod\u001b[0m \u001b[0;34m=\u001b[0m \u001b[0mtrtorch\u001b[0m\u001b[0;34m.\u001b[0m\u001b[0m_C\u001b[0m\u001b[0;34m.\u001b[0m\u001b[0mcompile_graph\u001b[0m\u001b[0;34m(\u001b[0m\u001b[0mmodule\u001b[0m\u001b[0;34m.\u001b[0m\u001b[0m_c\u001b[0m\u001b[0;34m,\u001b[0m \u001b[0m_parse_compile_spec\u001b[0m\u001b[0;34m(\u001b[0m\u001b[0mcompile_spec\u001b[0m\u001b[0;34m)\u001b[0m\u001b[0;34m)\u001b[0m\u001b[0;34m\u001b[0m\u001b[0;34m\u001b[0m\u001b[0m\n\u001b[0m\u001b[1;32m     74\u001b[0m     \u001b[0mcompiled_module\u001b[0m \u001b[0;34m=\u001b[0m \u001b[0mtorch\u001b[0m\u001b[0;34m.\u001b[0m\u001b[0mjit\u001b[0m\u001b[0;34m.\u001b[0m\u001b[0m_recursive\u001b[0m\u001b[0;34m.\u001b[0m\u001b[0mwrap_cpp_module\u001b[0m\u001b[0;34m(\u001b[0m\u001b[0mcompiled_cpp_mod\u001b[0m\u001b[0;34m)\u001b[0m\u001b[0;34m\u001b[0m\u001b[0;34m\u001b[0m\u001b[0m\n\u001b[1;32m     75\u001b[0m     \u001b[0;32mreturn\u001b[0m \u001b[0mcompiled_module\u001b[0m\u001b[0;34m\u001b[0m\u001b[0;34m\u001b[0m\u001b[0m\n",
      "\u001b[0;31mRuntimeError\u001b[0m: [enforce fail at core/conversion/evaluators/aten.cpp:597] Invalid input argument size for aten::arange, input argument size: 7\n"
     ]
    }
   ],
   "source": [
    "compile_settings = {\n",
    "    \"input_shapes\": [\n",
    "        (3,800,1202)\n",
    "#         {\n",
    "#             \"min\" : [3, 480,640],\n",
    "#             \"opt\" : [3, 1080,1920],\n",
    "#             \"max\" : [3, 1440, 2560],\n",
    "#         }\n",
    "    ],\n",
    "    \"op_precision\": torch.half, # Run with FP16\n",
    "    \"truncate_long_and_double\": True,\n",
    "    \"device\": {\n",
    "        \"device_type\": trtorch.DeviceType.DLA, # Type of device to run engine on (for DLA use trtorch.DeviceType.DLA)\n",
    "        \"gpu_id\": 0, # Target gpu id to run engine (Use Xavier as gpu id for DLA)\n",
    "        \"dla_core\": 0, # (DLA only) Target dla core id to run engine\n",
    "        \"allow_gpu_fallback\": True, # (DLA only) Allow layers unsupported on DLA to run on GPU\n",
    "    }\n",
    "}\n",
    "\n",
    "trt_ts_module = trtorch.compile(model.float(), compile_settings)\n",
    "print('COMPILED!!')\n",
    "input_data = torch.randn((3, 1080, 1920))\n",
    "input_data = input_data.half().to(\"cuda\")\n",
    "\n",
    "input_data = input_data.half()\n",
    "result = trt_ts_module(input_data)\n",
    "torch.jit.save(trt_ts_module, \"trt_ts_module.ts\")"
   ]
  },
  {
   "cell_type": "code",
   "execution_count": 24,
   "id": "93a6eb30-b70e-4af0-b655-e67cd9de0921",
   "metadata": {},
   "outputs": [
    {
     "data": {
      "text/plain": [
       "''"
      ]
     },
     "execution_count": 24,
     "metadata": {},
     "output_type": "execute_result"
    }
   ],
   "source": [
    "str(output)"
   ]
  },
  {
   "cell_type": "code",
   "execution_count": 4,
   "id": "9b993fca-56e9-46c2-99fc-f0b0eedfbeab",
   "metadata": {
    "tags": []
   },
   "outputs": [
    {
     "ename": "RuntimeError",
     "evalue": "[enforce fail at ./core/conversion/var/Var_inl.h:38] Expected ivalue->isInt() to be true but got false\nRequested unwrapping of arg IValue assuming it was l however type is bool\n",
     "output_type": "error",
     "traceback": [
      "\u001b[0;31m---------------------------------------------------------------------------\u001b[0m",
      "\u001b[0;31mRuntimeError\u001b[0m                              Traceback (most recent call last)",
      "\u001b[0;32m<ipython-input-4-4beeaa1b103b>\u001b[0m in \u001b[0;36m<module>\u001b[0;34m\u001b[0m\n\u001b[1;32m     28\u001b[0m          }\n\u001b[1;32m     29\u001b[0m      }\n\u001b[0;32m---> 30\u001b[0;31m \u001b[0mtrt_mod\u001b[0m \u001b[0;34m=\u001b[0m \u001b[0mtrtorch\u001b[0m\u001b[0;34m.\u001b[0m\u001b[0mcompile\u001b[0m\u001b[0;34m(\u001b[0m\u001b[0mmodel\u001b[0m\u001b[0;34m,\u001b[0m \u001b[0mcompile_spec\u001b[0m\u001b[0;34m)\u001b[0m\u001b[0;34m\u001b[0m\u001b[0;34m\u001b[0m\u001b[0m\n\u001b[0m",
      "\u001b[0;32m/falldetector/TRTorch/py/trtorch/_compiler.py\u001b[0m in \u001b[0;36mcompile\u001b[0;34m(module, compile_spec)\u001b[0m\n\u001b[1;32m     71\u001b[0m             \"torch.jit.ScriptFunction currently is not directly supported, wrap the function in a module to compile\")\n\u001b[1;32m     72\u001b[0m \u001b[0;34m\u001b[0m\u001b[0m\n\u001b[0;32m---> 73\u001b[0;31m     \u001b[0mcompiled_cpp_mod\u001b[0m \u001b[0;34m=\u001b[0m \u001b[0mtrtorch\u001b[0m\u001b[0;34m.\u001b[0m\u001b[0m_C\u001b[0m\u001b[0;34m.\u001b[0m\u001b[0mcompile_graph\u001b[0m\u001b[0;34m(\u001b[0m\u001b[0mmodule\u001b[0m\u001b[0;34m.\u001b[0m\u001b[0m_c\u001b[0m\u001b[0;34m,\u001b[0m \u001b[0m_parse_compile_spec\u001b[0m\u001b[0;34m(\u001b[0m\u001b[0mcompile_spec\u001b[0m\u001b[0;34m)\u001b[0m\u001b[0;34m)\u001b[0m\u001b[0;34m\u001b[0m\u001b[0;34m\u001b[0m\u001b[0m\n\u001b[0m\u001b[1;32m     74\u001b[0m     \u001b[0mcompiled_module\u001b[0m \u001b[0;34m=\u001b[0m \u001b[0mtorch\u001b[0m\u001b[0;34m.\u001b[0m\u001b[0mjit\u001b[0m\u001b[0;34m.\u001b[0m\u001b[0m_recursive\u001b[0m\u001b[0;34m.\u001b[0m\u001b[0mwrap_cpp_module\u001b[0m\u001b[0;34m(\u001b[0m\u001b[0mcompiled_cpp_mod\u001b[0m\u001b[0;34m)\u001b[0m\u001b[0;34m\u001b[0m\u001b[0;34m\u001b[0m\u001b[0m\n\u001b[1;32m     75\u001b[0m     \u001b[0;32mreturn\u001b[0m \u001b[0mcompiled_module\u001b[0m\u001b[0;34m\u001b[0m\u001b[0;34m\u001b[0m\u001b[0m\n",
      "\u001b[0;31mRuntimeError\u001b[0m: [enforce fail at ./core/conversion/var/Var_inl.h:38] Expected ivalue->isInt() to be true but got false\nRequested unwrapping of arg IValue assuming it was l however type is bool\n"
     ]
    }
   ],
   "source": [
    "os.chdir('/falldetector/detectron2')\n",
    "testing_dataloader = get_test_loader()\n",
    "os.chdir('/falldetector/trt-converter')\n",
    "\n",
    "calibrator = trtorch.ptq.DataLoaderCalibrator(testing_dataloader,\n",
    "                                              cache_file='./calibration.cache',\n",
    "                                              use_cache=False,\n",
    "                                              algo_type=trtorch.ptq.CalibrationAlgo.ENTROPY_CALIBRATION_2,\n",
    "                                              device=torch.device('cuda:0'))\n",
    "\n",
    "compile_spec = {\n",
    "         \"input_shapes\": [\n",
    "            {\n",
    "            \"min\" : [1, 3,480,640],\n",
    "            \"opt\" : [1, 3,1080,1920],\n",
    "            \"max\" : [1, 3, 1440, 2560],\n",
    "            }\n",
    "        ],\n",
    "         \"op_precision\": torch.int8,\n",
    "         \"calibrator\": calibrator,\n",
    "        \"truncate_long_and_double\": True,\n",
    "         \"device\": {\n",
    "             \"device_type\": trtorch.DeviceType.GPU,\n",
    "             \"gpu_id\": 0,\n",
    "             \"dla_core\": 0,\n",
    "             \"allow_gpu_fallback\": False,\n",
    "             \"disable_tf32\": False\n",
    "         }\n",
    "     }\n",
    "trt_mod = trtorch.compile(model, compile_spec)"
   ]
  },
  {
   "cell_type": "code",
   "execution_count": 9,
   "id": "7ed1486c-dd35-44aa-af73-e79337706e8b",
   "metadata": {},
   "outputs": [
    {
     "data": {
      "text/plain": [
       "torch.jit._script.RecursiveScriptModule"
      ]
     },
     "execution_count": 9,
     "metadata": {},
     "output_type": "execute_result"
    }
   ],
   "source": [
    "type(model)"
   ]
  },
  {
   "cell_type": "code",
   "execution_count": null,
   "id": "a7feb201-489e-49d6-8141-e177a400ce65",
   "metadata": {},
   "outputs": [],
   "source": []
  }
 ],
 "metadata": {
  "kernelspec": {
   "display_name": "Python 3",
   "language": "python",
   "name": "python3"
  },
  "language_info": {
   "codemirror_mode": {
    "name": "ipython",
    "version": 3
   },
   "file_extension": ".py",
   "mimetype": "text/x-python",
   "name": "python",
   "nbconvert_exporter": "python",
   "pygments_lexer": "ipython3",
   "version": "3.6.9"
  }
 },
 "nbformat": 4,
 "nbformat_minor": 5
}
